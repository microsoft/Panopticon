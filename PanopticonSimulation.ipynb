{
 "cells": [
  {
   "cell_type": "markdown",
   "metadata": {},
   "source": [
    "# Panopticon Simulation  \n",
    "Version 0.22  \n",
    "This is written in Julia, see https://docs.julialang.org/en/v1/ and has run in version 1.5.2.  \n",
    "\n",
    "This simulation code is a simplified representation of a single bank of DDR5 for the purposes of RowHammer investigation.  The simulation runs in time steps of 1 activation, for the fastest possible activation rate, and does not simulate reads, writes, open rows, or other real world events."
   ]
  },
  {
   "cell_type": "code",
   "execution_count": 1,
   "metadata": {},
   "outputs": [],
   "source": [
    "# import Pkg; Pkg.add(\"DataStructures\") # do this once to update your environment\n",
    "\n",
    "using DataStructures\n"
   ]
  },
  {
   "cell_type": "markdown",
   "metadata": {},
   "source": [
    "## Set overall constants for the simulation"
   ]
  },
  {
   "cell_type": "code",
   "execution_count": 2,
   "metadata": {},
   "outputs": [
    {
     "data": {
      "text/plain": [
       "0x0040"
      ]
     },
     "execution_count": 2,
     "metadata": {},
     "output_type": "execute_result"
    }
   ],
   "source": [
    "const rowsPerBank = 65536\n",
    "const maxAlarmQueueEntries = 8\n",
    "\n",
    "# DDR5 model, FGR mode refresh\n",
    "\n",
    "const activationsPerUSec = 40   # 25nsec per activation\n",
    "const activationsPerFineRefresh = 3.9 * activationsPerUSec # fine mode\n",
    "const maxRefreshPostponement = 9\n",
    "\n",
    "# the following values estimate a future level of RowHammer.  These are guesses.  \n",
    "# A DRAM vendor is encouraged to set these to reflect their true technology\n",
    "\n",
    "const MAC = 2000\n",
    "const adjacentDisturbMultiplier = UInt16(8) # neighbor will be disturbed this much stronger than 2-distant\n",
    "const adjacentAlarmThreshold = UInt16(512)  # must be a single bit (power of 2)\n",
    "const distantAlarmThreshold = UInt16(4096)  # must be a single bit (power of 2)\n",
    "const doZeroBit = true                      # set to false if you do not want this feature\n",
    "const partialZeroBit = UInt16(64)           # the counter bit (power of 2) which is cleared at normal refresh"
   ]
  },
  {
   "cell_type": "markdown",
   "metadata": {},
   "source": [
    "## Initialize the variables tracking the simulation.  \n"
   ]
  },
  {
   "cell_type": "code",
   "execution_count": 3,
   "metadata": {},
   "outputs": [
    {
     "data": {
      "text/plain": [
       "0x0000000000000000"
      ]
     },
     "execution_count": 3,
     "metadata": {},
     "output_type": "execute_result"
    }
   ],
   "source": [
    "# The onChipCounters will be in the DRAM and count activations to trigger alarms.\n",
    "# Pattern generating code must not \"cheat\" by reading these registers.  Their values are never exported.\n",
    "# Indeed, even within the chip their values cannot be read except by the incrementors, and the only\n",
    "# output from incrementors is alarms at specified thresholds, causeing the row number to be placed\n",
    "# into a per-Bank queue for mitigation during refresh intervals.\n",
    "\n",
    "onChipCounters = rand(UInt16,rowsPerBank)\n",
    "\n",
    "# Keep a count of disturbance since last refresh.  \n",
    "# These are just in the simulation to allow us to monitor the accumulation of disturbance.\n",
    "# They are not part of the chip.\n",
    "\n",
    "cumulativeHammer = zeros(UInt32, rowsPerBank)\n",
    "\n",
    "# Track the observed queue lengths at alarm times.  \n",
    "# Not part of the chip, just for simulation telemetry.\n",
    "\n",
    "histogram = zeros(UInt32, maxAlarmQueueEntries + 1)\n",
    "\n",
    "# There is a queue of alarms maintained per bank, on the chip, which tracks recent aggressors\n",
    "\n",
    "struct AlarmEntry\n",
    "    activationCount::UInt64  # this field is only for simulation, not in the real chip\n",
    "    aggressorRow::UInt16\n",
    "    secondLevel::Bool\n",
    "end\n",
    "\n",
    "# There is an alarm queue on each bank, on the chip\n",
    "\n",
    "alarmQueue = Queue{AlarmEntry}()\n",
    "\n",
    "# The bank keeps track of the current row.  \n",
    "# This is used to construct an Alarm, as well as to drive activations and refresh.\n",
    "# It is done as a global, not passed as a parameter, to mimic how it will be on the chip.\n",
    "\n",
    "currentRow = UInt16(0)\n",
    "\n",
    "# The simulation keeps track of when we succeeded in beating Panopticon by overflowing the alarm queue\n",
    "# Simulation only, not on the chip.  The chip might have telemetry such as a counter for this.\n",
    "\n",
    "overflowEventQueue = Queue{AlarmEntry}()\n",
    "\n",
    "# the simulation checks rules, and will report if you try a pattern which is not a valid DDR5 pattern\n",
    "rulesBrokenQueue = Queue{String}()\n",
    "\n",
    "# The simulation will also keep a queue of rows which exceed MAC.  \n",
    "# This is much harder to achieve than simply overflowing the alarm queue\n",
    "hammeredQueue = Queue{String}()\n",
    "\n",
    "# The activation count forms the time-step of the simulation\n",
    "activationCount = UInt64(0)\n",
    "\n",
    "# The refresh backlog cannot exceed maxRefreshPostponement * activationsPerFineRefresh\n",
    "refreshPostponement = UInt64(0)\n",
    "\n",
    "# refreshCycle counts normal refreshes and will be used Modulo to cycle through the bank.\n",
    "# Something like this would exist per bank on the real chip.\n",
    "# This way we can also see how many refreshes occured overall\n",
    "\n",
    "refreshCycle = UInt64(0)\n",
    "\n",
    "# Victim refreshes are also counted.  This is for simulation only.\n",
    "# A real chip might count this for telemetry, or not at all.  Telemetry might reveal information to an aggressor.\n",
    "\n",
    "remedialRefreshCount = UInt64(0)"
   ]
  },
  {
   "cell_type": "markdown",
   "metadata": {},
   "source": [
    "## These functions implement the functionality associated with activation and refresh"
   ]
  },
  {
   "cell_type": "code",
   "execution_count": 4,
   "metadata": {},
   "outputs": [
    {
     "data": {
      "text/plain": [
       "AdvanceClock (generic function with 1 method)"
      ]
     },
     "execution_count": 4,
     "metadata": {},
     "output_type": "execute_result"
    }
   ],
   "source": [
    "# The alarm functionality is per-bank.\n",
    "# When an incrementor signals a count has rolled over it raises a signal of the size of roll.\n",
    "# This is then combined with the currentRow and queued for mitigations.\n",
    "\n",
    "function RaiseAlarm(;distant::Bool)\n",
    "    e = AlarmEntry(activationCount,currentRow,distant)\n",
    "    if (length(alarmQueue) < maxAlarmQueueEntries)\n",
    "        global histogram[1+length(alarmQueue)] += UInt32(1)\n",
    "        enqueue!(alarmQueue, e)\n",
    "    else\n",
    "        global histogram[1+maxAlarmQueueEntries] += UInt32(1)\n",
    "        enqueue!(overflowEventQueue, e)\n",
    "    end\n",
    "end\n",
    "\n",
    "# If a rule is broken during simulation make a note of it.\n",
    "# We tolerate a small count of broken rules to help investigators try new things.\n",
    "\n",
    "function BreakARule(descripton::String)\n",
    "    if (20 <= length(rulesBrokenQueue))\n",
    "        throw(\"more than 20 rules broken\")\n",
    "    end\n",
    "    enqueue!(rulesBrokenQueue, description)\n",
    "end\n",
    "\n",
    "# An activation must be counted, and causes hammer accumulation on neighbors at different distances\n",
    "\n",
    "function ActivateRow()\n",
    "    r = UInt32(1) + currentRow;     # Julia arrays are 1-based\n",
    "    \n",
    "    # we use a mask to capture the alarm threshold bits in the counter\n",
    "    thresholdBitTransitions = onChipCounters[r] & (distantAlarmThreshold + adjacentAlarmThreshold)\n",
    "    \n",
    "    # Panopticon keeps a count of all row activations\n",
    "    global onChipCounters[r] += UInt16(1)\n",
    "    \n",
    "    # Now capture the threshold bits again and use XOR to set them to 1 if they have toggled\n",
    "    thresholdBitTransitions ⊻= onChipCounters[r] & (distantAlarmThreshold + adjacentAlarmThreshold)\n",
    "    \n",
    "    # An activation has an effect on adjacent rows.  The unit is 1 for distance-2.\n",
    "    # The effect is multiplied by adjacentDisturbMultiplier for distance-1.\n",
    "    \n",
    "    if(3 <= r)\n",
    "        global cumulativeHammer[r-2] += UInt16(1)\n",
    "    end\n",
    "    if(2 <= r)\n",
    "        global cumulativeHammer[r-1] += adjacentDisturbMultiplier\n",
    "    end\n",
    "    if(r < rowsPerBank)\n",
    "        global cumulativeHammer[r+1] += adjacentDisturbMultiplier\n",
    "    end\n",
    "    if(r < (rowsPerBank - 1))\n",
    "        global cumulativeHammer[r+2] += UInt16(1)\n",
    "    end\n",
    "    \n",
    "    # Now, check if we caused either of the alarm bits.  The distantAlarm has priority.\n",
    "    \n",
    "    if (0 != (thresholdBitTransitions & distantAlarmThreshold))\n",
    "        RaiseAlarm(distant=true)\n",
    "    elseif (0 != (thresholdBitTransitions & adjacentAlarmThreshold))\n",
    "        RaiseAlarm(distant=false)\n",
    "    end\n",
    "end\n",
    "\n",
    "# Before refresh, check for hammer, and record any successes\n",
    "# The refresh is an activation which hammers neighbors\n",
    "# Optionally, partially zero the row's counter\n",
    "# Finally, reset the hammer accumulation on the current row.\n",
    "\n",
    "function RefreshRow(doTheZero::Bool)\n",
    "    r = UInt32(1) + currentRow;     # Julia arrays are 1-based\n",
    "    if ((MAC * adjacentDisturbMultiplier) <= cumulativeHammer[r])\n",
    "        enqueue!(hammeredQueue, string(\"hammered [\", currentRow, \"] with \", cumulativeHammer[r]/adjacentDisturbMultiplier, \" at activation \", activationCount))\n",
    "        if (20 <= length(hammeredQueue))\n",
    "            throw(\"more than 20 hammers achieved\")\n",
    "        end\n",
    "    end\n",
    "    ActivateRow()\n",
    "    if (doTheZero)\n",
    "        global onChipCounters[r] &= ~partialZeroBit   # zero just one bit, to filter out slow counters\n",
    "    end\n",
    "    global cumulativeHammer[r] = 0\n",
    "end\n",
    "\n",
    "# This simulation assumes up to 4 rows refreshed per Fine Refresh in FRM\n",
    "\n",
    "function REFabFineRegular(n::UInt16)\n",
    "    while (0 < n)\n",
    "        global currentRow = UInt16(refreshCycle % rowsPerBank)\n",
    "        RefreshRow(doZeroBit)\n",
    "        global refreshCycle += 1\n",
    "        n -= 1\n",
    "    end\n",
    "end\n",
    "\n",
    "# The REFab command gives priority to the alarmQueue.\n",
    "# If not empty, then one entry is dequeued and the neighbors are refreshed.\n",
    "# If any slots are left (out of a total of 4 slots) they are used for regular refresh.\n",
    "\n",
    "function REFabFine()\n",
    "    \n",
    "    # reduce any outstanding postponement by one interval-worth\n",
    "    \n",
    "    if(refreshPostponement < activationsPerFineRefresh)\n",
    "        global refreshPostponement = 0\n",
    "    else\n",
    "        global refreshPostponement -= activationsPerFineRefresh\n",
    "    end\n",
    "    \n",
    "    # mitigations in the alarmQueue have priority over regular refresh\n",
    "\n",
    "    if(0 < length(alarmQueue))\n",
    "        entry = dequeue!(alarmQueue)\n",
    "        row = entry.aggressorRow\n",
    "        if(entry.secondLevel && 1 < row)\n",
    "            global currentRow = UInt16(row-2)\n",
    "            RefreshRow(false)\n",
    "            global remedialRefreshCount += 1\n",
    "        end\n",
    "        if(0 < row)\n",
    "            global currentRow = UInt16(row-1)\n",
    "            RefreshRow(false)\n",
    "            global remedialRefreshCount += 1\n",
    "        end\n",
    "        if(row < (rowsPerBank-1))\n",
    "            global currentRow = UInt16(row+1)\n",
    "            RefreshRow(false)\n",
    "            global remedialRefreshCount += 1\n",
    "        end\n",
    "        if(entry.secondLevel && row < (rowsPerBank - 2))\n",
    "            global currentRow = UInt16(row+2)\n",
    "            RefreshRow(false)\n",
    "            global remedialRefreshCount += 1\n",
    "        end\n",
    "        \n",
    "        if(! entry.secondLevel)         # did we only use 2 of the 4 available refresh actions?\n",
    "            REFabFineRegular(UInt16(2))\n",
    "        end\n",
    "    else\n",
    "        REFabFineRegular(UInt16(4))\n",
    "    end\n",
    "    \n",
    "    # a fine-mode refresh consumes 4 activation cycles\n",
    "    global activationCount += 4\n",
    "end\n",
    "\n",
    "# The clock in this simulation is a single activation step.\n",
    "# This simulation is just stripped down to the essential worst-case for RowHammer investigations.\n",
    "# Return the refresh postponement ratio\n",
    "\n",
    "function AdvanceClock(activations::UInt64; postpone::Bool=false)::Float64\n",
    "    global activationCount += activations\n",
    "    global refreshPostponement += activations\n",
    "    if (postpone)\n",
    "        if ((maxRefreshPostponement * activationsPerFineRefresh) < refreshPostponement)\n",
    "            BreakARule(string(\"postponement error at \", activationCount, \" total postponed \", refreshPostponement))\n",
    "        end\n",
    "    elseif (activationsPerFineRefresh <= refreshPostponement)\n",
    "        REFabFine()\n",
    "    end\n",
    "    return Float64(refreshPostponement) / activationsPerFineRefresh;\n",
    "end\n"
   ]
  },
  {
   "cell_type": "markdown",
   "metadata": {},
   "source": [
    "## functions for summarizing and visualizing the results"
   ]
  },
  {
   "cell_type": "code",
   "execution_count": 5,
   "metadata": {},
   "outputs": [
    {
     "data": {
      "text/plain": [
       "ShowResults (generic function with 1 method)"
      ]
     },
     "execution_count": 5,
     "metadata": {},
     "output_type": "execute_result"
    }
   ],
   "source": [
    "function ShowResults()\n",
    "    println(string(\"activations, \", activationCount))\n",
    "    println(string(\"normal refreshes, \", refreshCycle))\n",
    "    println(string(\"remedial refreshes, \", remedialRefreshCount))\n",
    "    println(string(\"alarm queue lengths, \", histogram))\n",
    "    println(string(\"rules broken, \", rulesBrokenQueue))\n",
    "    println(string(\"overflows, \", overflowEventQueue))\n",
    "    println(string(\"hammered, \", hammeredQueue))\n",
    "end"
   ]
  },
  {
   "cell_type": "markdown",
   "metadata": {},
   "source": [
    "## Controlling code.  This is where you can go generate command sequences to hammer rows.  \n",
    "\n",
    "The count of commands can be limited for testing, and then you can crank it up to billions when you want the real results and have the patience.  \n",
    "\n",
    "The loop here is relatively naive, it is just for testing.  This is where you can get creative in trying to break Panopticon."
   ]
  },
  {
   "cell_type": "code",
   "execution_count": 6,
   "metadata": {},
   "outputs": [
    {
     "data": {
      "text/plain": [
       "GenerateCommands (generic function with 1 method)"
      ]
     },
     "execution_count": 6,
     "metadata": {},
     "output_type": "execute_result"
    }
   ],
   "source": [
    "# one way to change the refresh rate would be to make changes to the postponement threshold.\n",
    "# For example you could raise it to maxRefreshPostponement to allow more actions to be scheduled.\n",
    "# Then you might reduce it back to 1 when you want to catch up again.\n",
    "\n",
    "postponementThreshold = 1.0\n",
    "\n",
    "# This function is where a strategy is formed.  It is called at every activation opportunity.\n",
    "# The default version here is just a mix of random activations of two intensities\n",
    "\n",
    "function DefaultStrategy()\n",
    "    row = UInt16(rand(UInt16))\n",
    "    if(0 != (0x7 & activationCount))  # 7 out of 8 are aggressor events, the rest are background\n",
    "        row &= 0xF\n",
    "        row += 8\n",
    "    end\n",
    "    global currentRow = row\n",
    "    ActivateRow()\n",
    "    \n",
    "    # the strategy could adjust the postponementThreshold.  The default is steady-state.\n",
    "end\n",
    "\n",
    "# your strategy goes here\n",
    "\n",
    "function SomeOtherStrategy()\n",
    "    # take an action\n",
    "    # adjust the postponementThreshold\n",
    "end\n",
    "\n",
    "# Return true if an action was taken.  Return false when no action was taken.\n",
    "# Refreshes are postponed when action is taken (when return is false)\n",
    "\n",
    "function ConsumeOneAction(currentPostponements)::Bool\n",
    "    if (currentPostponements < postponementThreshold)\n",
    "        \n",
    "        # comment out the default and call yours here\n",
    "        DefaultStrategy()\n",
    "        # SomeOtherStrategy()\n",
    "\n",
    "        return true        # the activation opportunity has been taken\n",
    "    else\n",
    "        return false       # the activation cycle if available for other use\n",
    "    end\n",
    "end\n",
    "\n",
    "# This is the outer loop of the simulation.\n",
    "\n",
    "function GenerateCommands(maxCommand::UInt64)\n",
    "    currentPostponements = 0.0\n",
    "    while (0 < maxCommand)\n",
    "        actionTaken = ConsumeOneAction(currentPostponements)\n",
    "        currentPostponements = AdvanceClock(UInt64(1), postpone=actionTaken)\n",
    "        maxCommand -= UInt64(1)\n",
    "    end\n",
    "end        "
   ]
  },
  {
   "cell_type": "markdown",
   "metadata": {},
   "source": [
    "## End of Panopticon module"
   ]
  },
  {
   "cell_type": "markdown",
   "metadata": {},
   "source": [
    "## This is the overall control which launches the test pattern, and then summarizes the results"
   ]
  },
  {
   "cell_type": "code",
   "execution_count": 7,
   "metadata": {},
   "outputs": [
    {
     "name": "stdout",
     "output_type": "stream",
     "text": [
      "activations, 10256408\n",
      "normal refreshes, 216816\n",
      "remedial refreshes, 39592\n",
      "alarm queue lengths, UInt32[0x000039c4, 0x0000098a, 0x00000134, 0x00000031, 0x00000004, 0x00000001, 0x00000000, 0x00000000, 0x00000000]\n",
      "rules broken, Queue{String}(Deque [String[]])\n",
      "overflows, Queue{AlarmEntry}(Deque [AlarmEntry[]])\n",
      "hammered, Queue{String}(Deque [String[]])\n"
     ]
    }
   ],
   "source": [
    "GenerateCommands(UInt64(10_000_000))\n",
    "ShowResults()"
   ]
  },
  {
   "cell_type": "code",
   "execution_count": null,
   "metadata": {},
   "outputs": [],
   "source": []
  }
 ],
 "metadata": {
  "kernelspec": {
   "display_name": "Julia 1.5.2",
   "language": "julia",
   "name": "julia-1.5"
  },
  "language_info": {
   "file_extension": ".jl",
   "mimetype": "application/julia",
   "name": "julia",
   "version": "1.5.2"
  }
 },
 "nbformat": 4,
 "nbformat_minor": 4
}
